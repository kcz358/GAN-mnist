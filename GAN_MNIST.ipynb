{
 "cells": [
  {
   "cell_type": "code",
   "execution_count": 1,
   "id": "785cfb83",
   "metadata": {},
   "outputs": [],
   "source": [
    "import torch\n",
    "import torch.nn as nn\n",
    "import torch.utils.data as data\n",
    "from torchvision import transforms\n",
    "import pandas as pd\n",
    "import numpy as np\n",
    "import matplotlib.pyplot as plt"
   ]
  },
  {
   "cell_type": "markdown",
   "id": "fab3a69d",
   "metadata": {},
   "source": [
    "## Read in the Mnist dataset"
   ]
  },
  {
   "cell_type": "code",
   "execution_count": 2,
   "id": "40c1786d",
   "metadata": {},
   "outputs": [],
   "source": [
    "mnist_df = pd.read_csv(\"train.csv\")\n",
    "#We do not need the label from the dataset, drop it\n",
    "mnist_df.drop(columns = \"label\", inplace = True)\n",
    "#Convert the array into 0 to 1 scale\n",
    "mnist_df = mnist_df.to_numpy(dtype='float32') / 255.0"
   ]
  },
  {
   "cell_type": "markdown",
   "id": "55f669a0",
   "metadata": {},
   "source": [
    "## A simple Dataset class for our dataset\n",
    "\n",
    "Creating a Dataset classes for our mnist dataset"
   ]
  },
  {
   "cell_type": "code",
   "execution_count": 5,
   "id": "855573cb",
   "metadata": {},
   "outputs": [],
   "source": [
    "class MnistDataset(data.Dataset):\n",
    "    def __init__(self, mnist_df):\n",
    "        super().__init__()\n",
    "        self.db = mnist_df\n",
    "    \n",
    "    def __getitem__(self, index):\n",
    "        return self.db[index]\n",
    "    \n",
    "    def __len__(self):\n",
    "        return len(self.db)"
   ]
  },
  {
   "cell_type": "code",
   "execution_count": 6,
   "id": "5021e5a2",
   "metadata": {},
   "outputs": [],
   "source": [
    "dataset = MnistDataset(mnist_df)"
   ]
  },
  {
   "cell_type": "markdown",
   "id": "11e2ab4e",
   "metadata": {},
   "source": [
    "### Visualize the dataset\n",
    "\n",
    "After we initialize the dataset, the images in the dataset can be retrived through slicing"
   ]
  },
  {
   "cell_type": "code",
   "execution_count": 9,
   "id": "a9354c98",
   "metadata": {},
   "outputs": [
    {
     "name": "stdout",
     "output_type": "stream",
     "text": [
      "(784,)\n"
     ]
    },
    {
     "data": {
      "text/plain": [
       "<matplotlib.image.AxesImage at 0x16ab974f0>"
      ]
     },
     "execution_count": 9,
     "metadata": {},
     "output_type": "execute_result"
    },
    {
     "data": {
      "image/png": "[encoded data removed]",
      "text/plain": [
       "<Figure size 200x200 with 1 Axes>"
      ]
     },
     "metadata": {},
     "output_type": "display_data"
    }
   ],
   "source": [
    "print(dataset[0].shape)\n",
    "plt.figure(figsize=(2,2))\n",
    "plt.imshow(dataset[0].reshape(28,28))"
   ]
  },
  {
   "cell_type": "markdown",
   "id": "6cc14633",
   "metadata": {},
   "source": [
    "## Define Generator and Discriminator model"
   ]
  },
  {
   "cell_type": "code",
   "execution_count": 10,
   "id": "2cb3ac06",
   "metadata": {},
   "outputs": [],
   "source": [
    "class Generator(nn.Module):\n",
    "    def __init__(self):\n",
    "        super().__init__()\n",
    "        self.model = nn.Sequential(\n",
    "            nn.Linear(100,256),\n",
    "            nn.ReLU(),\n",
    "            nn.Linear(256,256),\n",
    "            nn.ReLU(),\n",
    "            nn.Linear(256,784),\n",
    "            nn.Tanh()\n",
    "        )\n",
    "    def forward(self, x):\n",
    "        return self.model(x)\n",
    "    \n",
    "class Discriminator(nn.Module):\n",
    "    def __init__(self):\n",
    "        super().__init__()\n",
    "        self.model = nn.Sequential(\n",
    "            nn.Linear(784,256),\n",
    "            nn.ReLU(),\n",
    "            nn.Dropout(0.3),\n",
    "            nn.Linear(256,256),\n",
    "            nn.ReLU(),\n",
    "            nn.Dropout(0.2),\n",
    "            nn.Linear(256,1),\n",
    "            nn.Sigmoid()\n",
    "        )\n",
    "    def forward(self,x):\n",
    "        return self.model(x)"
   ]
  },
  {
   "cell_type": "code",
   "execution_count": 11,
   "id": "589f1575",
   "metadata": {},
   "outputs": [],
   "source": [
    "generator = Generator()\n",
    "discriminator = Discriminator()"
   ]
  },
  {
   "cell_type": "markdown",
   "id": "9ab50dc1",
   "metadata": {},
   "source": [
    "## Setting hyperparameter\n",
    "\n",
    "- loss : Binary Cross Entropy\n",
    "- batch_size : 32\n",
    "- learning rate : 0.0001\n",
    "- num_epochs : 10"
   ]
  },
  {
   "cell_type": "code",
   "execution_count": 12,
   "id": "130b19e7",
   "metadata": {},
   "outputs": [],
   "source": [
    "criterion = nn.BCELoss()\n",
    "lr = 0.0001\n",
    "batch_size = 32\n",
    "nBatches = len(dataset) // batch_size + 1\n",
    "num_epochs = 10\n",
    "optimizer_discriminator = torch.optim.Adam(discriminator.parameters(), lr=lr)\n",
    "optimizer_generator = torch.optim.Adam(generator.parameters(), lr=lr)\n",
    "data_loader = data.DataLoader(dataset, batch_size = 32)"
   ]
  },
  {
   "cell_type": "code",
   "execution_count": 18,
   "id": "1548704b",
   "metadata": {
    "scrolled": false
   },
   "outputs": [
    {
     "name": "stdout",
     "output_type": "stream",
     "text": [
      "Prediction ability for discriminator: 0.6225070357322693\n",
      "Generation ability for generator: 0.39548879861831665\n",
      "Epoch 1\n",
      "Prediction ability for discriminator: 0.6145167946815491\n",
      "Generation ability for generator: 0.35371047258377075\n",
      "Epoch 2\n",
      "Prediction ability for discriminator: 0.6227203011512756\n",
      "Generation ability for generator: 0.35029730200767517\n",
      "Epoch 3\n",
      "Prediction ability for discriminator: 0.5925155282020569\n",
      "Generation ability for generator: 0.37316352128982544\n",
      "Epoch 4\n",
      "Prediction ability for discriminator: 0.5938630104064941\n",
      "Generation ability for generator: 0.37051770091056824\n",
      "Epoch 5\n",
      "Prediction ability for discriminator: 0.6273385286331177\n",
      "Generation ability for generator: 0.373218834400177\n",
      "Epoch 6\n",
      "Prediction ability for discriminator: 0.6010369062423706\n",
      "Generation ability for generator: 0.38162970542907715\n",
      "Epoch 7\n",
      "Prediction ability for discriminator: 0.6258362531661987\n",
      "Generation ability for generator: 0.40777647495269775\n",
      "Epoch 8\n",
      "Prediction ability for discriminator: 0.5815582871437073\n",
      "Generation ability for generator: 0.375702440738678\n",
      "Epoch 9\n",
      "Prediction ability for discriminator: 0.6043624877929688\n",
      "Generation ability for generator: 0.37960249185562134\n",
      "Epoch 10\n"
     ]
    }
   ],
   "source": [
    "for epoch in range(num_epochs):\n",
    "    for iterations, (real_samples) in enumerate(data_loader):\n",
    "        #Sampled from noise\n",
    "        noise = torch.FloatTensor(real_samples.shape[0], 100)\n",
    "        noise.data.normal_(0,1)\n",
    "        fake_samples = generator(noise)\n",
    "        #Real labels are just one and fake labels are zeros\n",
    "        real_label = torch.ones((real_samples.shape[0],1))\n",
    "        fake_label = torch.zeros((real_samples.shape[0],1))\n",
    "        \n",
    "        #Training discrminator\n",
    "        loss_discriminate = criterion(discriminator(torch.cat([real_samples, fake_samples])), \n",
    "                                      torch.cat([real_label, fake_label]))\n",
    "        d_ability = 1 - discriminator(fake_samples).sum()/fake_samples.shape[0]\n",
    "        \n",
    "        if d_ability < 0.6:\n",
    "            optimizer_discriminator.zero_grad()\n",
    "            loss_discriminate.backward()\n",
    "            optimizer_discriminator.step()\n",
    "        \n",
    "        #Training generator\n",
    "        noise.data.normal_(0,1)\n",
    "        fake_samples = generator(noise)\n",
    "        loss_generator = criterion(discriminator(fake_samples), real_label)\n",
    "        optimizer_generator.zero_grad()\n",
    "        loss_generator.backward()\n",
    "        optimizer_generator.step()\n",
    "        g_ability = discriminator(fake_samples).sum()/fake_samples.shape[0]\n",
    "        \n",
    "        if iterations == 1000:\n",
    "\n",
    "            print(\"Prediction ability for discriminator: {}\".format(d_ability))\n",
    "            print(\"Generation ability for generator: {}\".format(g_ability))\n",
    "            \n",
    "    \n",
    "    print(\"Epoch {}\".format(epoch+1))\n",
    "    "
   ]
  },
  {
   "cell_type": "code",
   "execution_count": 30,
   "id": "c77256ac",
   "metadata": {},
   "outputs": [
    {
     "data": {
      "text/plain": [
       "<matplotlib.image.AxesImage at 0x16baddfd0>"
      ]
     },
     "execution_count": 30,
     "metadata": {},
     "output_type": "execute_result"
    },
    {
     "data": {
      "image/png": "[encoded data removed]",
      "text/plain": [
       "<Figure size 640x480 with 1 Axes>"
      ]
     },
     "metadata": {},
     "output_type": "display_data"
    }
   ],
   "source": [
    "plt.imshow(generator(torch.randn((1,100))).reshape(28,28).detach().numpy())"
   ]
  },
  {
   "cell_type": "code",
   "execution_count": null,
   "id": "cab4525c",
   "metadata": {},
   "outputs": [],
   "source": []
  },
  {
   "cell_type": "code",
   "execution_count": null,
   "id": "a0379581",
   "metadata": {},
   "outputs": [],
   "source": []
  }
 ],
 "metadata": {
  "kernelspec": {
   "display_name": "Python 3 (ipykernel)",
   "language": "python",
   "name": "python3"
  },
  "language_info": {
   "codemirror_mode": {
    "name": "ipython",
    "version": 3
   },
   "file_extension": ".py",
   "mimetype": "text/x-python",
   "name": "python",
   "nbconvert_exporter": "python",
   "pygments_lexer": "ipython3",
   "version": "3.8.13"
  }
 },
 "nbformat": 4,
 "nbformat_minor": 5
}
